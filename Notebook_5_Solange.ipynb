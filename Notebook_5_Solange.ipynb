{
  "nbformat": 4,
  "nbformat_minor": 0,
  "metadata": {
    "kernelspec": {
      "display_name": "Python 3",
      "language": "python",
      "name": "python3"
    },
    "language_info": {
      "codemirror_mode": {
        "name": "ipython",
        "version": 3
      },
      "file_extension": ".py",
      "mimetype": "text/x-python",
      "name": "python",
      "nbconvert_exporter": "python",
      "pygments_lexer": "ipython3",
      "version": "3.7.3"
    },
    "colab": {
      "provenance": []
    }
  },
  "cells": [
    {
      "cell_type": "markdown",
      "metadata": {
        "id": "Gp2WddtV9IwG"
      },
      "source": [
        "# Programa Ingenias+ Data Science"
      ]
    },
    {
      "cell_type": "markdown",
      "metadata": {
        "id": "H4M1yVbf9IwH"
      },
      "source": [
        "Como dijimos en clases anteriores, Python tiene implementadas muchas librerias para poder trabajar con datos. En la clase de hoy trabajaremos con una de ellas: `Numpy`."
      ]
    },
    {
      "cell_type": "markdown",
      "metadata": {
        "id": "GdTT8WeL9IwI"
      },
      "source": [
        "Antes de comenzar, vamos a hablar un poco de esta libreria o modulo.\n",
        "\n",
        "**Numpy** es una librería optimizada para realizar cálculos numéricos con vectores y matrices. A diferencia de otros lenguajes de programación, Python no posee en su estructura central la figura de matrices. Eso quiere decir que para poder trabajar con esta estructura de datos deberiamos trabajar con listas de listas. NumPy introduce el concepto de arrays o matrices."
      ]
    },
    {
      "cell_type": "markdown",
      "metadata": {
        "id": "qWkq3EHK9IwK"
      },
      "source": [
        "Al ser de código abierto, `numpy` posee una documentación muy amplia que es **SIEMPRE RECOMENDABLE** consultar."
      ]
    },
    {
      "cell_type": "markdown",
      "metadata": {
        "id": "nxe3KLUO9IwL"
      },
      "source": [
        "- [Documentacion NumPy](https://devdocs.io/numpy/)"
      ]
    },
    {
      "cell_type": "markdown",
      "metadata": {
        "id": "l1Ay3nSs9IwN"
      },
      "source": [
        "## Clase 4: Introduccion a NumPy"
      ]
    },
    {
      "cell_type": "markdown",
      "metadata": {
        "id": "X03mviQS9IyL"
      },
      "source": [
        "# Ejercicios\n"
      ]
    },
    {
      "cell_type": "code",
      "source": [
        "import numpy as np"
      ],
      "metadata": {
        "id": "Yd7F5M2uhbuR"
      },
      "execution_count": 56,
      "outputs": []
    },
    {
      "cell_type": "markdown",
      "source": [
        "1. Crear un arreglo de ceros de longitud 12\n",
        "\n"
      ],
      "metadata": {
        "id": "j0JRmjqVhl7n"
      }
    },
    {
      "cell_type": "code",
      "metadata": {
        "id": "G0NMKT609IyM",
        "colab": {
          "base_uri": "https://localhost:8080/"
        },
        "outputId": "7307e21f-5063-47d7-846a-6c7cf2181e5b"
      },
      "source": [
        "array1 = np.zeros(12)\n",
        "print(array1)"
      ],
      "execution_count": 57,
      "outputs": [
        {
          "output_type": "stream",
          "name": "stdout",
          "text": [
            "[0. 0. 0. 0. 0. 0. 0. 0. 0. 0. 0. 0.]\n"
          ]
        }
      ]
    },
    {
      "cell_type": "markdown",
      "source": [
        "2. Crear un arreglo de longitud 10 con ceros en todas sus posiciones y un 10 en la posición número 5"
      ],
      "metadata": {
        "id": "-2bFTPicht-V"
      }
    },
    {
      "cell_type": "code",
      "source": [
        "array2 = np.zeros(9)\n",
        "array2 = np.insert(array2,4,10)\n",
        "print(array2)\n"
      ],
      "metadata": {
        "colab": {
          "base_uri": "https://localhost:8080/"
        },
        "id": "8-kX10BO25AS",
        "outputId": "2e5180ba-2c60-4733-e4aa-566f8dab56a4"
      },
      "execution_count": 58,
      "outputs": [
        {
          "output_type": "stream",
          "name": "stdout",
          "text": [
            "[ 0.  0.  0.  0. 10.  0.  0.  0.  0.  0.]\n"
          ]
        }
      ]
    },
    {
      "cell_type": "markdown",
      "source": [
        "3. Crear un arreglo que tenga los números del 10 al 49"
      ],
      "metadata": {
        "id": "fzuCRcYFhxbR"
      }
    },
    {
      "cell_type": "code",
      "source": [
        "array3 = np.arange(10,50)\n",
        "print(array3)"
      ],
      "metadata": {
        "colab": {
          "base_uri": "https://localhost:8080/"
        },
        "id": "YGloFF75bdDZ",
        "outputId": "f8729c4a-653c-4ecc-855f-57aa9538abfd"
      },
      "execution_count": 59,
      "outputs": [
        {
          "output_type": "stream",
          "name": "stdout",
          "text": [
            "[10 11 12 13 14 15 16 17 18 19 20 21 22 23 24 25 26 27 28 29 30 31 32 33\n",
            " 34 35 36 37 38 39 40 41 42 43 44 45 46 47 48 49]\n"
          ]
        }
      ]
    },
    {
      "cell_type": "markdown",
      "source": [
        "4. Crear una arreglo 2d de shape (3, 3) que tenga los números del 0 al 8"
      ],
      "metadata": {
        "id": "sLpb0h2bhz-T"
      }
    },
    {
      "cell_type": "code",
      "source": [
        "num = np.arange(0,9)\n",
        "array4 = np.array(num).reshape(3,3)\n",
        "print(array4)"
      ],
      "metadata": {
        "colab": {
          "base_uri": "https://localhost:8080/"
        },
        "id": "p6Pa83rhbxmY",
        "outputId": "8f0d0693-a2a7-4c43-fdac-f8dc7fa694b4"
      },
      "execution_count": 60,
      "outputs": [
        {
          "output_type": "stream",
          "name": "stdout",
          "text": [
            "[[0 1 2]\n",
            " [3 4 5]\n",
            " [6 7 8]]\n"
          ]
        }
      ]
    },
    {
      "cell_type": "markdown",
      "source": [
        "\n",
        "5. Crear un arreglo de números aleatorios de longitud 100 y obtener su media y varianza"
      ],
      "metadata": {
        "id": "ECZXW_kgh365"
      }
    },
    {
      "cell_type": "code",
      "source": [
        "# Se crean números enteros aleatorios entre 100 y 500.\n",
        "array5 = np.random.randint(100, 500, size=100)\n",
        "\n",
        "media = np.mean(array5)\n",
        "varianza = np.var(array5)\n",
        "\n",
        "print(\"Media:\", media)\n",
        "print(\"Varianza:\", varianza)"
      ],
      "metadata": {
        "colab": {
          "base_uri": "https://localhost:8080/"
        },
        "id": "rCpAK2yAcVJ_",
        "outputId": "4f5cdf13-4897-4667-e810-06faebccb861"
      },
      "execution_count": 61,
      "outputs": [
        {
          "output_type": "stream",
          "name": "stdout",
          "text": [
            "Media: 288.92\n",
            "Varianza: 13546.3536\n"
          ]
        }
      ]
    },
    {
      "cell_type": "markdown",
      "source": [
        "6. Calcular la media de un arreglo usando np.sum"
      ],
      "metadata": {
        "id": "_BoGnSYah7SR"
      }
    },
    {
      "cell_type": "code",
      "source": [
        "#Se usa el array anterior para comparar resultados.\n",
        "sum = np.sum(array5)\n",
        "total_elements = array5.size\n",
        "\n",
        "if total_elements == 0:\n",
        "  print(\"No se puede calcular la Media\")\n",
        "else:\n",
        "  calculated_mean = sum/total_elements\n",
        "  print(\"Media:\", calculated_mean)"
      ],
      "metadata": {
        "colab": {
          "base_uri": "https://localhost:8080/"
        },
        "id": "mGmyub1Yg9Po",
        "outputId": "b2eee1cf-c48c-4aa3-af71-879290c65261"
      },
      "execution_count": 63,
      "outputs": [
        {
          "output_type": "stream",
          "name": "stdout",
          "text": [
            "Media: 288.92\n"
          ]
        }
      ]
    },
    {
      "cell_type": "markdown",
      "source": [
        "7. Calcular la varianza de un arreglo usando np.sum y np.mean"
      ],
      "metadata": {
        "id": "1-H6DsUek3KU"
      }
    },
    {
      "cell_type": "code",
      "source": [
        "# Calcula de la varianza para datos no agrupados\n",
        "# media y total_elements se declaran mas arriba\n",
        "if total_elements == 0:\n",
        "  print(\"No se puede calcular la Varianza\")\n",
        "else:\n",
        "  sum2 = np.sum((array5-media)**2)\n",
        "  varianza2 = sum2/total_elements\n",
        "  print(\"Varianza:\", varianza2)\n"
      ],
      "metadata": {
        "colab": {
          "base_uri": "https://localhost:8080/"
        },
        "id": "4tbJBK1zilVS",
        "outputId": "52060e9a-9005-4428-bf19-0393208c8fc2"
      },
      "execution_count": 65,
      "outputs": [
        {
          "output_type": "stream",
          "name": "stdout",
          "text": [
            "Varianza: 13546.3536\n"
          ]
        }
      ]
    },
    {
      "cell_type": "markdown",
      "source": [
        "8. Crear un array de números aleatorios usando np.random.randn."
      ],
      "metadata": {
        "id": "sR98R2WDpEeB"
      }
    },
    {
      "cell_type": "code",
      "source": [
        "array8 = np.random.randn(2,4)\n",
        "print(array8)"
      ],
      "metadata": {
        "colab": {
          "base_uri": "https://localhost:8080/"
        },
        "id": "fJ-17-lwntiV",
        "outputId": "32a6c15d-3fd4-4fc1-cc1c-3c5c1c7d4d3a"
      },
      "execution_count": 67,
      "outputs": [
        {
          "output_type": "stream",
          "name": "stdout",
          "text": [
            "[[ 0.30297677  0.31726594 -1.75838137  0.81518914]\n",
            " [ 1.35125003 -0.81009975  1.68569946 -0.67526323]]\n"
          ]
        }
      ]
    },
    {
      "cell_type": "code",
      "source": [],
      "metadata": {
        "id": "O4aTL-yPqUHK"
      },
      "execution_count": null,
      "outputs": []
    }
  ]
}